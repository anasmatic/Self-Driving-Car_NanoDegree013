{
 "cells": [
  {
   "cell_type": "code",
   "execution_count": 1,
   "metadata": {
    "collapsed": false,
    "deletable": true,
    "editable": true
   },
   "outputs": [
    {
     "data": {
      "text/html": [
       "<style> code {background-color : pink !important;} </style>"
      ],
      "text/plain": [
       "<IPython.core.display.HTML object>"
      ]
     },
     "metadata": {},
     "output_type": "display_data"
    }
   ],
   "source": [
    "%%HTML\n",
    "<style> code {background-color : pink !important;} </style>"
   ]
  },
  {
   "cell_type": "markdown",
   "metadata": {
    "deletable": true,
    "editable": true
   },
   "source": [
    "Camera Calibration with OpenCV\n",
    "===\n",
    "\n",
    "### Run the code in the cell below to extract object points and image points for camera calibration.  "
   ]
  },
  {
   "cell_type": "code",
   "execution_count": 1,
   "metadata": {
    "collapsed": false,
    "deletable": true,
    "editable": true
   },
   "outputs": [],
   "source": [
    "import numpy as np\n",
    "import cv2\n",
    "import glob\n",
    "import matplotlib.image as mpimg\n",
    "import matplotlib.pyplot as plt\n",
    "%matplotlib qt\n"
   ]
  },
  {
   "cell_type": "code",
   "execution_count": null,
   "metadata": {
    "collapsed": true,
    "deletable": true,
    "editable": true
   },
   "outputs": [],
   "source": [
    "def abs_sobel_thresh_hsv(img, orient='x', sobel_kernel=3, sx_thresh=(0, 255)):\n",
    "    # Convert  \n",
    "    hsv = cv2.cvtColor(img, cv2.COLOR_RGB2HSV).astype(np.float)\n",
    "    v_channel = hsv[:,:,2]\n",
    "    # Apply x or y gradient with the OpenCV Sobel() function\n",
    "    # and take the absolute value\n",
    "    sobelx = cv2.Sobel(v_channel, cv2.CV_64F, 1, 0) # Take the derivative in x\n",
    "    abs_sobelx = np.absolute(sobelx) # Absolute x derivative to accentuate lines away from horizontal\n",
    "    scaled_sobel = np.uint8(255*abs_sobelx/np.max(abs_sobelx))\n",
    "    \n",
    "    # Threshold x gradient\n",
    "    sxbinary = np.zeros_like(scaled_sobel)\n",
    "    sxbinary[(scaled_sobel >= sx_thresh[0]) & (scaled_sobel <= sx_thresh[1])] = 1\n",
    "    \n",
    "    # Return the result\n",
    "    return sxbinary"
   ]
  },
  {
   "cell_type": "code",
   "execution_count": null,
   "metadata": {
    "collapsed": false,
    "deletable": true,
    "editable": true
   },
   "outputs": [],
   "source": [
    "def abs_sobel_thresh(img, orient='x', sobel_kernel=3, sx_thresh=(0, 255)):\n",
    "    # Convert to grayscale\n",
    "    #gray = cv2.cvtColor(img, cv2.COLOR_RGB2GRAY)\n",
    "    hlv = cv2.cvtColor(img, cv2.COLOR_RGB2HLS).astype(np.float)\n",
    "    l_channel = hlv[:,:,1]\n",
    "    # Apply x or y gradient with the OpenCV Sobel() function\n",
    "    # and take the absolute value\n",
    "    sobelx = cv2.Sobel(l_channel, cv2.CV_64F, 1, 0) # Take the derivative in x\n",
    "    abs_sobelx = np.absolute(sobelx) # Absolute x derivative to accentuate lines away from horizontal\n",
    "    scaled_sobel = np.uint8(255*abs_sobelx/np.max(abs_sobelx))\n",
    "    \n",
    "    # Threshold x gradient\n",
    "    sxbinary = np.zeros_like(scaled_sobel)\n",
    "    sxbinary[(scaled_sobel >= sx_thresh[0]) & (scaled_sobel <= sx_thresh[1])] = 1\n",
    "    \n",
    "    # Return the result\n",
    "    return sxbinary"
   ]
  },
  {
   "cell_type": "code",
   "execution_count": null,
   "metadata": {
    "collapsed": true,
    "deletable": true,
    "editable": true
   },
   "outputs": [],
   "source": [
    "def s_hls_thresh(img, s_thresh=(0, 255)):\n",
    "    # Convert to grayscale\n",
    "    hsv = cv2.cvtColor(img, cv2.COLOR_RGB2HLS).astype(np.float)\n",
    "    s_channel = hsv[:,:,2]\n",
    "    # Threshold color channel\n",
    "    s_binary = np.zeros_like(s_channel)\n",
    "    s_binary[(s_channel >= s_thresh[0]) & (s_channel <= s_thresh[1])] = 1\n",
    "    # Return the result\n",
    "    return s_binary"
   ]
  },
  {
   "cell_type": "code",
   "execution_count": null,
   "metadata": {
    "collapsed": true,
    "deletable": true,
    "editable": true
   },
   "outputs": [],
   "source": [
    "def s_hsv_thresh(img, s_thresh=(0, 255)):\n",
    "    # Convert to grayscale\n",
    "    hsv = cv2.cvtColor(img, cv2.COLOR_RGB2HSV).astype(np.float)\n",
    "    s_channel = hsv[:,:,1]\n",
    "    # Threshold color channel\n",
    "    s_binary = np.zeros_like(s_channel)\n",
    "    s_binary[(s_channel >= s_thresh[0]) & (s_channel <= s_thresh[1])] = 1\n",
    "    # Return the result\n",
    "    return s_binary"
   ]
  },
  {
   "cell_type": "markdown",
   "metadata": {
    "collapsed": true,
    "deletable": true,
    "editable": true
   },
   "source": [
    "## load image and apply gradiant and color selection"
   ]
  },
  {
   "cell_type": "code",
   "execution_count": null,
   "metadata": {
    "collapsed": false,
    "deletable": true,
    "editable": true
   },
   "outputs": [],
   "source": [
    "def pipeline(img, s_thresh=(170, 255), sx_thresh=(20, 100)):\n",
    "    # Choose a Sobel kernel size\n",
    "    ksize = 17 # Choose a larger odd number to smooth gradient measurements\n",
    "\n",
    "    # Apply each of the thresholding functions\n",
    "    sxbinary = abs_sobel_thresh(image, orient='x', sobel_kernel=ksize, sx_thresh=sx_thresh)\n",
    "    s_binary = s_hls_thresh(image, s_thresh=s_thresh)\n",
    "    \n",
    "    sxbinary_hsv = abs_sobel_thresh_hsv(image, orient='x', sobel_kernel=ksize, sx_thresh=sx_thresh)\n",
    "    s_binary_hsv = s_hsv_thresh(image, s_thresh=s_thresh)\n",
    "    \n",
    "\n",
    "    # Stack each channel to view their individual contributions in green and blue respectively\n",
    "    # This returns a stack of the two binary images, whose components you can see as different colors\n",
    "    color_binary = np.dstack(( np.zeros_like(sxbinary), sxbinary, s_binary))\n",
    "    color_binary_hsv = np.dstack(( np.zeros_like(sxbinary_hsv), sxbinary_hsv, s_binary_hsv))\n",
    "    \n",
    "    return color_binary , sxbinary , s_binary , color_binary_hsv, sxbinary_hsv , s_binary_hsv"
   ]
  },
  {
   "cell_type": "markdown",
   "metadata": {
    "deletable": true,
    "editable": true
   },
   "source": [
    "### combine"
   ]
  },
  {
   "cell_type": "code",
   "execution_count": null,
   "metadata": {
    "collapsed": false,
    "deletable": true,
    "editable": true
   },
   "outputs": [],
   "source": [
    "image = mpimg.imread('gradiant/signs_vehicles_xygrad.jpg')\n",
    "result, sobelx_binary, schannel_binary, result_hsv, sobelx_binary_hsv, schannel_binary_hsv = pipeline(image)\n",
    "# Combine the two binary thresholds\n",
    "combined_binary = np.zeros_like(sobelx_binary)\n",
    "combined_binary[(schannel_binary == 1) | (sobelx_binary == 1)] = 1\n",
    "\n",
    "combined_binary_hsv = np.zeros_like(sobelx_binary_hsv)\n",
    "combined_binary_hsv[(schannel_binary_hsv == 1) | (sobelx_binary_hsv == 1)] = 1"
   ]
  },
  {
   "cell_type": "code",
   "execution_count": null,
   "metadata": {
    "collapsed": false,
    "deletable": true,
    "editable": true
   },
   "outputs": [],
   "source": [
    "# Plot the result\n",
    "f, ((ax2, ax3, ax4, ax5) , (ax6, ax7, ax8, ax9)) = plt.subplots(2, 4, figsize=(24, 24))\n",
    "f.tight_layout()\n",
    "\n",
    "#ax1.imshow(image)\n",
    "#ax1.set_title('Original Image', fontsize=30)\n",
    "\n",
    "ax2.imshow(result)\n",
    "ax2.set_title('Pipeline Result', fontsize=30)\n",
    "\n",
    "ax3.imshow(combined_binary, cmap='gray')\n",
    "ax3.set_title('Combined Binary', fontsize=30)\n",
    "\n",
    "ax4.imshow(sobelx_binary, cmap='gray')\n",
    "ax4.set_title('sobelx_binary', fontsize=30)\n",
    "\n",
    "ax5.imshow(schannel_binary, cmap='gray')\n",
    "ax5.set_title('schannel_binary', fontsize=30)\n",
    "\n",
    "ax6.imshow(result_hsv)\n",
    "ax6.set_title('Pipeline Result', fontsize=30)\n",
    "\n",
    "ax7.imshow(combined_binary_hsv, cmap='gray')\n",
    "ax7.set_title('Combined Binary', fontsize=30)\n",
    "\n",
    "ax8.imshow(sobelx_binary_hsv, cmap='gray')\n",
    "ax8.set_title('sobelx_binary', fontsize=30)\n",
    "\n",
    "ax9.imshow(schannel_binary_hsv, cmap='gray')\n",
    "ax9.set_title('schannel_binary', fontsize=30)\n",
    "\n",
    "plt.subplots_adjust(left=0., right=1, top=0.9, bottom=0.)"
   ]
  },
  {
   "cell_type": "code",
   "execution_count": null,
   "metadata": {
    "collapsed": true,
    "deletable": true,
    "editable": true
   },
   "outputs": [],
   "source": []
  }
 ],
 "metadata": {
  "anaconda-cloud": {},
  "kernelspec": {
   "display_name": "Python 3",
   "language": "python",
   "name": "python3"
  },
  "language_info": {
   "codemirror_mode": {
    "name": "ipython",
    "version": 3
   },
   "file_extension": ".py",
   "mimetype": "text/x-python",
   "name": "python",
   "nbconvert_exporter": "python",
   "pygments_lexer": "ipython3",
   "version": "3.5.2"
  },
  "widgets": {
   "state": {},
   "version": "1.1.2"
  }
 },
 "nbformat": 4,
 "nbformat_minor": 1
}
