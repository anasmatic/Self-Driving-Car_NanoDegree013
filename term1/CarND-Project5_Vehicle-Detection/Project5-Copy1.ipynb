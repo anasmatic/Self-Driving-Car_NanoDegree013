{
 "cells": [
  {
   "cell_type": "markdown",
   "metadata": {
    "deletable": true,
    "editable": true
   },
   "source": [
    "# Vehicle Detection and Tracking"
   ]
  },
  {
   "cell_type": "code",
   "execution_count": 44,
   "metadata": {
    "collapsed": true,
    "deletable": true,
    "editable": true
   },
   "outputs": [],
   "source": [
    "import matplotlib.image as mpimg\n",
    "import matplotlib.pyplot as plt\n",
    "import numpy as np\n",
    "import cv2\n",
    "import glob\n",
    "import time\n",
    "from sklearn.svm import LinearSVC\n",
    "from sklearn.svm import SVC\n",
    "from sklearn.preprocessing import StandardScaler\n",
    "# NOTE: the next import is only valid \n",
    "# for scikit-learn version <= 0.17\n",
    "# if you are using scikit-learn >= 0.18 then use this:\n",
    "from sklearn.model_selection import train_test_split\n",
    "from sklearn.model_selection import GridSearchCV\n",
    "#from sklearn.cross_validation import train_test_split"
   ]
  },
  {
   "cell_type": "markdown",
   "metadata": {
    "deletable": true,
    "editable": true
   },
   "source": [
    "##### load data into 2 arrays : X_cars and X_not_cars"
   ]
  },
  {
   "cell_type": "code",
   "execution_count": 3,
   "metadata": {
    "collapsed": false,
    "deletable": true,
    "editable": true
   },
   "outputs": [
    {
     "name": "stdout",
     "output_type": "stream",
     "text": [
      "8792\n",
      "8968\n"
     ]
    }
   ],
   "source": [
    "X_cars = np.array(glob.glob('./data/vehicles/*/*.png'))\n",
    "X_not_cars = np.array(glob.glob('./data/non-vehicles/*/*.png'))\n",
    "print(len(X_cars))\n",
    "print(len(X_not_cars))"
   ]
  },
  {
   "cell_type": "markdown",
   "metadata": {
    "deletable": true,
    "editable": true
   },
   "source": [
    "###### split 'car' data manualy to 20% test, use only data in KITTI_extracted because they are not time serialized\n",
    "###### also create labels"
   ]
  },
  {
   "cell_type": "code",
   "execution_count": 4,
   "metadata": {
    "collapsed": false,
    "deletable": true,
    "editable": true
   },
   "outputs": [
    {
     "name": "stdout",
     "output_type": "stream",
     "text": [
      "  train test\n",
      "X 7034 1758\n",
      "y 7034 1758\n"
     ]
    }
   ],
   "source": [
    "X_cars_test = X_cars[len(X_cars)-1758:]\n",
    "y_cars_test = np.ones_like(X_cars_test)\n",
    "X_cars_train = X_cars[:len(X_cars)-1758]\n",
    "y_cars_train = np.ones_like(X_cars_train)\n",
    "#make sure all test data from 'KITTI_extracted' folder\n",
    "np.savetxt('test.txt', X_cars_test, delimiter='/n', fmt='%s')\n",
    "\n",
    "print(\" \",\"train\",\"test\")\n",
    "print(\"X\",len(X_cars_train),len(X_cars_test))\n",
    "print(\"y\",len(y_cars_train), len(y_cars_test))"
   ]
  },
  {
   "cell_type": "code",
   "execution_count": 5,
   "metadata": {
    "collapsed": false,
    "deletable": true,
    "editable": true
   },
   "outputs": [
    {
     "name": "stdout",
     "output_type": "stream",
     "text": [
      "  train test\n",
      "X 7034 1758\n",
      "y 7034 1758\n"
     ]
    }
   ],
   "source": [
    "rand_state = np.random.randint(0, 100)\n",
    "#shuffle using 'train data' only , we are not spliting anything here (test_size=0)\n",
    "X_cars_train_rndm, X_cars_test_dump, y_cars_train_rndm, y_cars_test_dump = train_test_split(\n",
    "    X_cars_train, y_cars_train, test_size=0, random_state=rand_state)\n",
    "#make sure test data is 0, while train data is the same\n",
    "assert len(X_cars_test_dump)==0 & len(y_cars_test_dump) == 0\n",
    "assert len(X_cars_train_rndm)==7034 & len(y_cars_train_rndm) == 7034\n",
    "\n",
    "#shuffle using 'test data' only , we are not spliting anything here (train_size=0)\n",
    "X_cars_train_dump, X_cars_test_rndm, y_cars_train_dump, y_cars_test_rndm = train_test_split(\n",
    "    X_cars_test, y_cars_test, train_size=0, random_state=rand_state)\n",
    "#make sure train data is 0, while test data is the same\n",
    "assert len(X_cars_test_rndm)==1758 & len(y_cars_test_rndm) == 1758\n",
    "assert len(X_cars_train_dump)==0 & len(y_cars_train_dump) == 0\n",
    "\n",
    "print(\" \",\"train\",\"test\")\n",
    "print(\"X\",len(X_cars_train),len(X_cars_test))\n",
    "print(\"y\",len(y_cars_train), len(y_cars_test))"
   ]
  },
  {
   "cell_type": "markdown",
   "metadata": {
    "deletable": true,
    "editable": true
   },
   "source": [
    "##### let's split 'not car data' to 20% test as well, "
   ]
  },
  {
   "cell_type": "code",
   "execution_count": 6,
   "metadata": {
    "collapsed": false,
    "deletable": true,
    "editable": true
   },
   "outputs": [
    {
     "name": "stdout",
     "output_type": "stream",
     "text": [
      "  train test\n",
      "X 7174 1794\n",
      "y 7174 1794\n"
     ]
    }
   ],
   "source": [
    "X_not_cars_train, X_not_cars_test, y_not_cars_train, y_not_cars_test = train_test_split(\n",
    "    X_not_cars, np.zeros_like(X_not_cars), train_size=0.8, random_state=rand_state)\n",
    "print(\" \",\"train\",\"test\")\n",
    "print(\"X\",len(X_not_cars_train),len(X_not_cars_test))\n",
    "print(\"y\",len(y_not_cars_train), len(y_not_cars_test))"
   ]
  },
  {
   "cell_type": "markdown",
   "metadata": {
    "deletable": true,
    "editable": true
   },
   "source": [
    "##### data is considerably balanced, lets merge 'car train data' with 'not car train data', and same for car & not car test data"
   ]
  },
  {
   "cell_type": "code",
   "execution_count": 7,
   "metadata": {
    "collapsed": false,
    "deletable": true,
    "editable": true
   },
   "outputs": [
    {
     "name": "stdout",
     "output_type": "stream",
     "text": [
      "  train test\n",
      "X 14208 3552\n",
      "y 14208 3552\n"
     ]
    }
   ],
   "source": [
    "X_train_data = np.hstack((X_cars_train, X_not_cars_train))\n",
    "X_test_data = np.hstack((X_cars_test, X_not_cars_test))\n",
    " \n",
    "y_train_data = np.hstack((y_cars_train, y_not_cars_train))\n",
    "y_test_data = np.hstack((y_cars_test, y_not_cars_test))\n",
    "\n",
    "print(\" \",\"train\",\"test\")\n",
    "print(\"X\",len(X_train_data),len(X_test_data))\n",
    "print(\"y\",len(y_train_data), len(y_test_data))"
   ]
  },
  {
   "cell_type": "markdown",
   "metadata": {
    "deletable": true,
    "editable": true
   },
   "source": [
    "### Color Classifing\n",
    "###### now we will try extracting features from images using spatially binned color and color histograms. "
   ]
  },
  {
   "cell_type": "code",
   "execution_count": 8,
   "metadata": {
    "collapsed": true,
    "deletable": true,
    "editable": true
   },
   "outputs": [],
   "source": [
    "# Define a function to compute binned color features  \n",
    "def bin_spatial(img, size=(32, 32)):\n",
    "    # Use cv2.resize().ravel() to create the feature vector\n",
    "    features = cv2.resize(img, size).ravel() \n",
    "    # Return the feature vector\n",
    "    return features\n",
    "\n",
    "# Define a function to compute color histogram features  \n",
    "def color_hist(img, nbins=32, bins_range=(0, 256)):\n",
    "    # Compute the histogram of the color channels separately\n",
    "    channel1_hist = np.histogram(img[:,:,0], bins=nbins, range=bins_range)\n",
    "    channel2_hist = np.histogram(img[:,:,1], bins=nbins, range=bins_range)\n",
    "    channel3_hist = np.histogram(img[:,:,2], bins=nbins, range=bins_range)\n",
    "    # Concatenate the histograms into a single feature vector\n",
    "    hist_features = np.concatenate((channel1_hist[0], channel2_hist[0], channel3_hist[0]))\n",
    "    # Return the individual histograms, bin_centers and feature vector\n",
    "    return hist_features\n",
    "\n",
    "# Define a function to extract features from a list of images\n",
    "# Have this function call bin_spatial() and color_hist()\n",
    "def extract_features(imgs, cspace='RGB', spatial_size=(32, 32),\n",
    "                        hist_bins=32, hist_range=(0, 256)):\n",
    "    # Create a list to append feature vectors to\n",
    "    features = []\n",
    "    # Iterate through the list of images\n",
    "    for file in imgs:\n",
    "        # Read in each one by one\n",
    "        image = mpimg.imread(file)\n",
    "        # apply color conversion if other than 'RGB'\n",
    "        if cspace != 'RGB':\n",
    "            if cspace == 'HSV':\n",
    "                feature_image = cv2.cvtColor(image, cv2.COLOR_RGB2HSV)\n",
    "            elif cspace == 'LUV':\n",
    "                feature_image = cv2.cvtColor(image, cv2.COLOR_RGB2LUV)\n",
    "            elif cspace == 'HLS':\n",
    "                feature_image = cv2.cvtColor(image, cv2.COLOR_RGB2HLS)\n",
    "            elif cspace == 'YUV':\n",
    "                feature_image = cv2.cvtColor(image, cv2.COLOR_RGB2YUV)\n",
    "        else: feature_image = np.copy(image)      \n",
    "        # Apply bin_spatial() to get spatial color features\n",
    "        spatial_features = bin_spatial(feature_image, size=spatial_size)\n",
    "        # Apply color_hist() also with a color space option now\n",
    "        hist_features = color_hist(feature_image, nbins=hist_bins, bins_range=hist_range)\n",
    "        # Append the new feature vector to the features list\n",
    "        features.append(np.concatenate((spatial_features, hist_features)))\n",
    "    # Return list of feature vectors\n",
    "    return features\n",
    "\n"
   ]
  },
  {
   "cell_type": "code",
   "execution_count": 39,
   "metadata": {
    "collapsed": false,
    "deletable": true,
    "editable": true
   },
   "outputs": [
    {
     "name": "stdout",
     "output_type": "stream",
     "text": [
      "37.8392 Seconds\n"
     ]
    }
   ],
   "source": [
    "t=time.time()\n",
    "# performs under different binning scenarios\n",
    "spatial = 32\n",
    "histbin = 512\n",
    "hist_range = (0, 265)\n",
    "\n",
    "train_features = extract_features(X_train_data, cspace='HSV', spatial_size=(spatial, spatial),\n",
    "                        hist_bins=histbin, hist_range=hist_range)\n",
    "test_features = extract_features(X_test_data, cspace='HSV', spatial_size=(spatial, spatial),\n",
    "                        hist_bins=histbin, hist_range=hist_range)\n",
    "print(round(time.time()-t, 5), 'Seconds')\n"
   ]
  },
  {
   "cell_type": "code",
   "execution_count": 40,
   "metadata": {
    "collapsed": false,
    "deletable": true,
    "editable": true
   },
   "outputs": [
    {
     "name": "stdout",
     "output_type": "stream",
     "text": [
      "X 14208 3552\n",
      "sample [ 0.38388063 -1.05298139  1.19274209 ...,  0.          0.          0.        ]\n",
      "y 14208 3552\n",
      "2.59272 Seconds\n"
     ]
    }
   ],
   "source": [
    "t=time.time()\n",
    "train_features = np.asarray(train_features,np.float64)\n",
    "test_features = np.asarray(test_features,np.float64)\n",
    "# Create an array stack of feature vectors\n",
    "\n",
    "# Fit a per-column scaler\n",
    "train_scaler = StandardScaler().fit(train_features)\n",
    "# Apply the scaler to X\n",
    "X_trarin_scaled = train_scaler.transform(train_features)\n",
    "\n",
    "# Fit a per-column scaler\n",
    "test_scaler = StandardScaler().fit(test_features)\n",
    "# Apply the scaler to X\n",
    "X_test_scaled = test_scaler.transform(test_features)\n",
    "\n",
    "print(\"X\",len(X_trarin_scaled),len(X_test_scaled))\n",
    "print(\"sample\",X_trarin_scaled[0])\n",
    "print(\"y\",len(y_train_data), len(y_test_data))\n",
    "print(round(time.time()-t, 5), 'Seconds')"
   ]
  },
  {
   "cell_type": "code",
   "execution_count": 46,
   "metadata": {
    "collapsed": false,
    "deletable": true,
    "editable": true
   },
   "outputs": [
    {
     "name": "stdout",
     "output_type": "stream",
     "text": [
      "best_params_ {'kernel': 'rbf', 'C': 10}\n",
      "2546.61 Seconds to train SVC...\n",
      "Test Accuracy of clf =  0.9966\n",
      "My SVC predicts:  ['1' '1' '1' '1' '1' '1' '1' '1' '1' '1']\n",
      "For these 10 labels:  ['1' '1' '1' '1' '1' '1' '1' '1' '1' '1']\n",
      "0.10938 Seconds to predict 10 labels with SVC\n"
     ]
    }
   ],
   "source": [
    "t=time.time()\n",
    "\n",
    "parameters = {'kernel':('linear', 'rbf'), 'C':[1, 10]}\n",
    "svr = SVC()\n",
    "clf = GridSearchCV(svr, parameters)\n",
    "clf.fit(X_trarin_scaled, y_train_data)\n",
    "print(\"best_params_\",clf.best_params_)\n",
    "\n",
    "t2 = time.time()\n",
    "print(round(t2-t, 2), 'Seconds to train SVC...')\n",
    "# Check the score of the SVC\n",
    "print('Test Accuracy of clf = ', round(clf.score(X_test_scaled, y_test_data), 4))\n",
    "# Check the prediction time for a single sample\n",
    "t=time.time()\n",
    "n_predict = 10\n",
    "print('My SVC predicts: ', clf.predict(X_test_scaled[0:n_predict]))\n",
    "print('For these',n_predict, 'labels: ', y_test_data[0:n_predict])\n",
    "t2 = time.time()\n",
    "print(round(t2-t, 5), 'Seconds to predict', n_predict,'labels with SVC')"
   ]
  },
  {
   "cell_type": "markdown",
   "metadata": {
    "collapsed": true,
    "deletable": true,
    "editable": true
   },
   "source": [
    "##### todo: show some histogram"
   ]
  },
  {
   "cell_type": "markdown",
   "metadata": {
    "deletable": true,
    "editable": true
   },
   "source": [
    "### HOG Classifing"
   ]
  },
  {
   "cell_type": "code",
   "execution_count": 47,
   "metadata": {
    "collapsed": true,
    "deletable": true,
    "editable": true
   },
   "outputs": [],
   "source": [
    "from skimage.feature import hog\n",
    "\n",
    "# Define a function to return HOG features and visualization\n",
    "def get_hog_features(img, orient, pix_per_cell, cell_per_block,\n",
    "                        vis=False, feature_vec=True):\n",
    "    # Call with two outputs if vis==True\n",
    "    if vis == True:\n",
    "        features, hog_image = hog(img, orientations=orient, pixels_per_cell=(pix_per_cell, pix_per_cell),\n",
    "                                  cells_per_block=(cell_per_block, cell_per_block), transform_sqrt=True, \n",
    "                                  visualise=vis, feature_vector=feature_vec)\n",
    "        return features, hog_image\n",
    "    # Otherwise call with one output\n",
    "    else:      \n",
    "        features = hog(img, orientations=orient, pixels_per_cell=(pix_per_cell, pix_per_cell),\n",
    "                       cells_per_block=(cell_per_block, cell_per_block), transform_sqrt=True, \n",
    "                       visualise=vis, feature_vector=feature_vec)\n",
    "        return features\n",
    "\n",
    "# Define a function to extract features from a list of images\n",
    "# Have this function call bin_spatial() and color_hist()\n",
    "def extract_HOG_features(imgs, cspace='RGB', orient=9, \n",
    "                        pix_per_cell=8, cell_per_block=2, hog_channel=0):\n",
    "    # Create a list to append feature vectors to\n",
    "    features = []\n",
    "    # Iterate through the list of images\n",
    "    for file in imgs:\n",
    "        # Read in each one by one\n",
    "        image = mpimg.imread(file)\n",
    "        # apply color conversion if other than 'RGB'\n",
    "        if cspace != 'RGB':\n",
    "            if cspace == 'HSV':\n",
    "                feature_image = cv2.cvtColor(image, cv2.COLOR_RGB2HSV)\n",
    "            elif cspace == 'LUV':\n",
    "                feature_image = cv2.cvtColor(image, cv2.COLOR_RGB2LUV)\n",
    "            elif cspace == 'HLS':\n",
    "                feature_image = cv2.cvtColor(image, cv2.COLOR_RGB2HLS)\n",
    "            elif cspace == 'YUV':\n",
    "                feature_image = cv2.cvtColor(image, cv2.COLOR_RGB2YUV)\n",
    "            elif cspace == 'YCrCb':\n",
    "                feature_image = cv2.cvtColor(image, cv2.COLOR_RGB2YCrCb)\n",
    "        else: feature_image = np.copy(image)      \n",
    "\n",
    "        # Call get_hog_features() with vis=False, feature_vec=True\n",
    "        if hog_channel == 'ALL':\n",
    "            hog_features = []\n",
    "            for channel in range(feature_image.shape[2]):\n",
    "                hog_features.append(get_hog_features(feature_image[:,:,channel], \n",
    "                                    orient, pix_per_cell, cell_per_block, \n",
    "                                    vis=False, feature_vec=True))\n",
    "            hog_features = np.ravel(hog_features)        \n",
    "        else:\n",
    "            hog_features = get_hog_features(feature_image[:,:,hog_channel], orient, \n",
    "                        pix_per_cell, cell_per_block, vis=False, feature_vec=True)\n",
    "        # Append the new feature vector to the features list\n",
    "        features.append(hog_features)\n",
    "    # Return list of feature vectors\n",
    "    return features"
   ]
  },
  {
   "cell_type": "code",
   "execution_count": 48,
   "metadata": {
    "collapsed": false,
    "deletable": true,
    "editable": true
   },
   "outputs": [
    {
     "name": "stdout",
     "output_type": "stream",
     "text": [
      "206.66514 Seconds\n"
     ]
    }
   ],
   "source": [
    "t=time.time()\n",
    "\n",
    "colorspace = 'HSV' # Can be RGB, HSV, LUV, HLS, YUV, YCrCb\n",
    "orient = 9\n",
    "pix_per_cell = 8\n",
    "cell_per_block = 2\n",
    "hog_channel = \"ALL\" # Can be 0, 1, 2, or \"ALL\"\n",
    "\n",
    "t=time.time()\n",
    "train_HOG_features = extract_HOG_features(X_train_data, cspace=colorspace, orient=orient, \n",
    "                        pix_per_cell=pix_per_cell, cell_per_block=cell_per_block, \n",
    "                        hog_channel=hog_channel)\n",
    "test_HOG_features = extract_HOG_features(X_test_data, cspace=colorspace, orient=orient, \n",
    "                        pix_per_cell=pix_per_cell, cell_per_block=cell_per_block, \n",
    "                        hog_channel=hog_channel)\n",
    "print(round(time.time()-t, 5), 'Seconds')\n"
   ]
  },
  {
   "cell_type": "code",
   "execution_count": 49,
   "metadata": {
    "collapsed": false,
    "deletable": true,
    "editable": true
   },
   "outputs": [
    {
     "name": "stdout",
     "output_type": "stream",
     "text": [
      "sample [-0.94319214 -0.62877885 -0.53811473 ..., -0.68921752 -0.64553404\n",
      " -0.50222601]\n",
      "X 14208 3552\n",
      "y 14208 3552\n",
      "2.82827 Seconds\n"
     ]
    }
   ],
   "source": [
    "t=time.time()\n",
    "train_HOG_features = np.asarray(train_HOG_features,np.float64)\n",
    "test_HOG_features = np.asarray(test_HOG_features,np.float64)\n",
    "# Create an array stack of feature vectors\n",
    "\n",
    "# Fit a per-column scaler\n",
    "train_HOG_scaler = StandardScaler().fit(train_HOG_features)\n",
    "# Apply the scaler to X\n",
    "X_trarin_HOG_scaled = train_HOG_scaler.transform(train_HOG_features)\n",
    "\n",
    "# Fit a per-column scaler\n",
    "test_HOG_scaler = StandardScaler().fit(test_HOG_features)\n",
    "# Apply the scaler to X\n",
    "X_test_HOG_scaled = test_HOG_scaler.transform(test_HOG_features)\n",
    "\n",
    "print(\"sample\",X_trarin_HOG_scaled[0])\n",
    "print(\"X\",len(X_trarin_HOG_scaled),len(X_test_HOG_scaled))\n",
    "print(\"y\",len(y_train_data), len(y_test_data))\n",
    "print(round(time.time()-t, 5), 'Seconds')"
   ]
  },
  {
   "cell_type": "code",
   "execution_count": 50,
   "metadata": {
    "collapsed": false,
    "deletable": true,
    "editable": true
   },
   "outputs": [
    {
     "name": "stdout",
     "output_type": "stream",
     "text": [
      "21.89 Seconds to train SVC...\n",
      "Test Accuracy of SVC =  0.9834\n",
      "My SVC predicts:  ['1' '1' '1' '1' '1' '1' '1' '1' '1' '1']\n",
      "For these 10 labels:  ['1' '1' '1' '1' '1' '1' '1' '1' '1' '1']\n",
      "0.0 Seconds to predict 10 labels with SVC\n"
     ]
    }
   ],
   "source": [
    "# Use a linear SVC \n",
    "svc = LinearSVC()\n",
    "# Check the training time for the SVC\n",
    "t=time.time()\n",
    "svc.fit(X_trarin_HOG_scaled, y_train_data)\n",
    "t2 = time.time()\n",
    "print(round(t2-t, 2), 'Seconds to train SVC...')\n",
    "# Check the score of the SVC\n",
    "print('Test Accuracy of SVC = ', round(svc.score(X_test_HOG_scaled, y_test_data), 4))\n",
    "# Check the prediction time for a single sample\n",
    "t=time.time()\n",
    "n_predict = 10\n",
    "print('My SVC predicts: ', svc.predict(X_test_HOG_scaled[0:n_predict]))\n",
    "print('For these',n_predict, 'labels: ', y_test_data[0:n_predict])\n",
    "t2 = time.time()\n",
    "print(round(t2-t, 5), 'Seconds to predict', n_predict,'labels with SVC')"
   ]
  },
  {
   "cell_type": "code",
   "execution_count": 51,
   "metadata": {
    "collapsed": false,
    "deletable": true,
    "editable": true
   },
   "outputs": [
    {
     "name": "stdout",
     "output_type": "stream",
     "text": [
      "best_params_ {'kernel': 'rbf', 'C': 10}\n",
      "4015.95 Seconds to train SVC...\n",
      "Test Accuracy of clf =  0.9958\n",
      "My SVC predicts:  ['1' '1' '1' '1' '1' '1' '1' '1' '1' '1']\n",
      "For these 10 labels:  ['1' '1' '1' '1' '1' '1' '1' '1' '1' '1']\n",
      "0.24116 Seconds to predict 10 labels with SVC\n"
     ]
    }
   ],
   "source": [
    "t=time.time()\n",
    "\n",
    "parameters = {'kernel':('linear', 'rbf'), 'C':[1, 10]}\n",
    "svrHOG = SVC()\n",
    "clfHOG = GridSearchCV(svrHOG, parameters)\n",
    "clfHOG.fit(X_trarin_HOG_scaled, y_train_data)\n",
    "print(\"best_params_\",clfHOG.best_params_)\n",
    "\n",
    "t2 = time.time()\n",
    "print(round(t2-t, 2), 'Seconds to train SVC...')\n",
    "# Check the score of the SVC\n",
    "print('Test Accuracy of clf = ', round(clfHOG.score(X_test_HOG_scaled, y_test_data), 4))\n",
    "# Check the prediction time for a single sample\n",
    "t=time.time()\n",
    "n_predict = 10\n",
    "print('My SVC predicts: ', clfHOG.predict(X_test_HOG_scaled[0:n_predict]))\n",
    "print('For these',n_predict, 'labels: ', y_test_data[0:n_predict])\n",
    "t2 = time.time()\n",
    "print(round(t2-t, 5), 'Seconds to predict', n_predict,'labels with SVC')"
   ]
  },
  {
   "cell_type": "code",
   "execution_count": null,
   "metadata": {
    "collapsed": true,
    "deletable": true,
    "editable": true
   },
   "outputs": [],
   "source": []
  }
 ],
 "metadata": {
  "kernelspec": {
   "display_name": "Python 3",
   "language": "python",
   "name": "python3"
  },
  "language_info": {
   "codemirror_mode": {
    "name": "ipython",
    "version": 3
   },
   "file_extension": ".py",
   "mimetype": "text/x-python",
   "name": "python",
   "nbconvert_exporter": "python",
   "pygments_lexer": "ipython3",
   "version": "3.5.2"
  },
  "widgets": {
   "state": {},
   "version": "1.1.2"
  }
 },
 "nbformat": 4,
 "nbformat_minor": 2
}
